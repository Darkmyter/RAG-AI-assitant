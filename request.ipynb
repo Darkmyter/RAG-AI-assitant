{
 "cells": [
  {
   "cell_type": "code",
   "execution_count": null,
   "metadata": {},
   "outputs": [],
   "source": [
    "import base64\n",
    "import requests\n",
    "\n",
    "API_URL = \"http://127.0.0.1:8000/update_db\"\n",
    "\n",
    "def encode_pdf_to_base64(pdf_path):\n",
    "    with open(pdf_path, \"rb\") as file:\n",
    "        return base64.b64encode(file.read()).decode(\"utf-8\")\n",
    "\n",
    "# Convert PDFs to Base64\n",
    "pdf_files = [\n",
    "    {\"filename\": \"document1.pdf\", \"file_data\": encode_pdf_to_base64(\"document1.pdf\")},\n",
    "    {\"filename\": \"document2.pdf\", \"file_data\": encode_pdf_to_base64(\"document2.pdf\")}\n",
    "]\n",
    "\n",
    "# Send Base64 PDFs to API\n",
    "response = requests.post(API_URL, json={\"files\": pdf_files})\n",
    "print(response.json())\n"
   ]
  },
  {
   "cell_type": "code",
   "execution_count": null,
   "metadata": {},
   "outputs": [],
   "source": [
    "import requests\n",
    "\n",
    "url = \"http://127.0.0.1:8000/ask\"\n",
    "data = {\"query\": \"When is the deadline?\"}\n",
    "\n",
    "response = requests.post(url, json=data)\n",
    "print(response.json())"
   ]
  }
 ],
 "metadata": {
  "kernelspec": {
   "display_name": "rag",
   "language": "python",
   "name": "python3"
  },
  "language_info": {
   "codemirror_mode": {
    "name": "ipython",
    "version": 3
   },
   "file_extension": ".py",
   "mimetype": "text/x-python",
   "name": "python",
   "nbconvert_exporter": "python",
   "pygments_lexer": "ipython3",
   "version": "3.10.16"
  }
 },
 "nbformat": 4,
 "nbformat_minor": 2
}
